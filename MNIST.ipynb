{
 "cells": [
  {
   "cell_type": "code",
   "execution_count": 49,
   "metadata": {},
   "outputs": [],
   "source": [
    "import pandas as pd\n",
    "import tensorflow as tf\n",
    "import numpy as np\n",
    "import random\n",
    "from tensorflow.examples.tutorials.mnist import input_data"
   ]
  },
  {
   "cell_type": "code",
   "execution_count": 50,
   "metadata": {},
   "outputs": [],
   "source": [
    "tf.set_random_seed(777)  #reproducibility"
   ]
  },
  {
   "cell_type": "markdown",
   "metadata": {},
   "source": [
    "# MNIST 예제\n",
    "\n",
    "![image](https://user-images.githubusercontent.com/51112316/60859929-44afd180-a24f-11e9-80cc-b3e926f27caf.png)"
   ]
  },
  {
   "cell_type": "code",
   "execution_count": 51,
   "metadata": {},
   "outputs": [
    {
     "name": "stdout",
     "output_type": "stream",
     "text": [
      "Extracting MNIST_data/train-images-idx3-ubyte.gz\n",
      "Extracting MNIST_data/train-labels-idx1-ubyte.gz\n",
      "Extracting MNIST_data/t10k-images-idx3-ubyte.gz\n",
      "Extracting MNIST_data/t10k-labels-idx1-ubyte.gz\n"
     ]
    }
   ],
   "source": [
    "mnist=input_data.read_data_sets(\"MNIST_data/\",one_hot=True)\n",
    "#Check out https://www.tensorflow.org/get_started/mnist/beginners for more information about the mnist dataset"
   ]
  },
  {
   "cell_type": "markdown",
   "metadata": {},
   "source": [
    "#### PARAMETERS"
   ]
  },
  {
   "cell_type": "code",
   "execution_count": 52,
   "metadata": {},
   "outputs": [],
   "source": [
    "learning_rate = 0.001\n",
    "training_epochs = 15\n",
    "batch_size = 100"
   ]
  },
  {
   "cell_type": "markdown",
   "metadata": {},
   "source": [
    "#### Input place holders"
   ]
  },
  {
   "cell_type": "code",
   "execution_count": 53,
   "metadata": {},
   "outputs": [],
   "source": [
    "X=tf.placeholder(tf.float32,[None, 784])\n",
    "Y=tf.placeholder(tf.float32,[None, 10])"
   ]
  },
  {
   "cell_type": "markdown",
   "metadata": {},
   "source": [
    "#### Weight & Bias for nn layers"
   ]
  },
  {
   "cell_type": "code",
   "execution_count": 54,
   "metadata": {},
   "outputs": [],
   "source": [
    "W=tf.Variable(tf.random_normal([784,10]))\n",
    "b=tf.Variable(tf.random_normal([10]))\n",
    "\n",
    "hypothesis=tf.matmul(X,W)+b"
   ]
  },
  {
   "cell_type": "markdown",
   "metadata": {},
   "source": [
    "#### Define cost / loss & optimizer"
   ]
  },
  {
   "cell_type": "code",
   "execution_count": 55,
   "metadata": {},
   "outputs": [],
   "source": [
    "cost = tf.reduce_mean(tf.nn.softmax_cross_entropy_with_logits(logits=hypothesis,labels=Y))\n",
    "optimizer = tf.train.AdamOptimizer(learning_rate=learning_rate).minimize(cost)"
   ]
  },
  {
   "cell_type": "markdown",
   "metadata": {},
   "source": [
    "#### Initialize"
   ]
  },
  {
   "cell_type": "code",
   "execution_count": 56,
   "metadata": {},
   "outputs": [],
   "source": [
    "sess = tf.Session()\n",
    "sess.run(tf.global_variables_initializer())"
   ]
  },
  {
   "cell_type": "markdown",
   "metadata": {},
   "source": [
    "#### Train my model"
   ]
  },
  {
   "cell_type": "code",
   "execution_count": 57,
   "metadata": {},
   "outputs": [
    {
     "name": "stdout",
     "output_type": "stream",
     "text": [
      "Epoch : 0001 cost= 6.088853061\n",
      "Learning Finished\n",
      "Epoch : 0002 cost= 1.868360199\n",
      "Learning Finished\n",
      "Epoch : 0003 cost= 1.177693837\n",
      "Learning Finished\n",
      "Epoch : 0004 cost= 0.918648064\n",
      "Learning Finished\n",
      "Epoch : 0005 cost= 0.778376131\n",
      "Learning Finished\n",
      "Epoch : 0006 cost= 0.688701782\n",
      "Learning Finished\n",
      "Epoch : 0007 cost= 0.624641222\n",
      "Learning Finished\n",
      "Epoch : 0008 cost= 0.577444990\n",
      "Learning Finished\n",
      "Epoch : 0009 cost= 0.540538082\n",
      "Learning Finished\n",
      "Epoch : 0010 cost= 0.510936285\n",
      "Learning Finished\n",
      "Epoch : 0011 cost= 0.486423710\n",
      "Learning Finished\n",
      "Epoch : 0012 cost= 0.465768285\n",
      "Learning Finished\n",
      "Epoch : 0013 cost= 0.448005463\n",
      "Learning Finished\n",
      "Epoch : 0014 cost= 0.432682331\n",
      "Learning Finished\n",
      "Epoch : 0015 cost= 0.419280125\n",
      "Learning Finished\n"
     ]
    }
   ],
   "source": [
    "for epoch in range(training_epochs):\n",
    "    avg_cost=0\n",
    "    total_batch=int(mnist.train.num_examples/batch_size)\n",
    "    \n",
    "    for i in range(total_batch):\n",
    "        batch_xs,batch_ys=mnist.train.next_batch(batch_size)\n",
    "        feed_dict = {X:batch_xs,Y:batch_ys}\n",
    "        c,_=sess.run([cost, optimizer], feed_dict=feed_dict)\n",
    "        avg_cost += c / total_batch\n",
    "        \n",
    "    print('Epoch :','%04d'%(epoch+1),'cost=','{:.9f}'.format(avg_cost))\n",
    "    \n",
    "    print('Learning Finished')"
   ]
  },
  {
   "cell_type": "markdown",
   "metadata": {},
   "source": [
    "#### Test model and check accuracy"
   ]
  },
  {
   "cell_type": "code",
   "execution_count": 58,
   "metadata": {},
   "outputs": [
    {
     "name": "stdout",
     "output_type": "stream",
     "text": [
      "Accuracy : 0.8984\n"
     ]
    }
   ],
   "source": [
    "correct_prediction = tf.equal(tf.argmax(hypothesis,1),tf.argmax(Y,1))\n",
    "accuracy=tf.reduce_mean(tf.cast(correct_prediction,tf.float32))\n",
    "print(\"Accuracy :\",sess.run(accuracy,feed_dict={\n",
    "        X :mnist.test.images, Y:mnist.test.labels}))"
   ]
  },
  {
   "cell_type": "markdown",
   "metadata": {},
   "source": [
    "#### Get one and predict"
   ]
  },
  {
   "cell_type": "code",
   "execution_count": 59,
   "metadata": {},
   "outputs": [
    {
     "name": "stdout",
     "output_type": "stream",
     "text": [
      "Label : [1]\n",
      "Prediction : [1]\n"
     ]
    }
   ],
   "source": [
    "r=random.randint(0,mnist.test.num_examples-1)\n",
    "print(\"Label :\",sess.run(tf.argmax(mnist.test.labels[r:r+1],1)))\n",
    "print(\"Prediction :\",sess.run(tf.argmax(hypothesis,1),feed_dict={X:mnist.test.images[r:r+1]}))"
   ]
  },
  {
   "cell_type": "code",
   "execution_count": 65,
   "metadata": {},
   "outputs": [
    {
     "data": {
      "image/png": "[encoded data removed]",
      "text/plain": [
       "<Figure size 432x288 with 1 Axes>"
      ]
     },
     "metadata": {},
     "output_type": "display_data"
    }
   ],
   "source": [
    "plt.imshow(mnist.test.images[r:r+1].reshape(28,28),cmap='Greys',interpolation='nearest')\n",
    "plt.show()"
   ]
  },
  {
   "cell_type": "code",
   "execution_count": null,
   "metadata": {},
   "outputs": [],
   "source": []
  },
  {
   "cell_type": "markdown",
   "metadata": {},
   "source": [
    "# 다층 MNIST"
   ]
  },
  {
   "cell_type": "markdown",
   "metadata": {},
   "source": [
    "#### Weight & Bias for nn layers"
   ]
  },
  {
   "cell_type": "code",
   "execution_count": 76,
   "metadata": {},
   "outputs": [],
   "source": [
    "W1=tf.Variable(tf.random_normal([784,256]))\n",
    "b1=tf.Variable(tf.random_normal([256]))\n",
    "L1=tf.nn.relu(tf.matmul(X,W1)+b1)\n",
    "\n",
    "W2=tf.Variable(tf.random_normal([256,256]))\n",
    "b2=tf.Variable(tf.random_normal([256]))\n",
    "L2=tf.nn.relu(tf.matmul(L1,W2)+b2)\n",
    "\n",
    "W3=tf.Variable(tf.random_normal([256,10]))\n",
    "b3=tf.Variable(tf.random_normal([10]))\n",
    "L3=tf.nn.relu(tf.matmul(L2,W3)+b3)\n",
    "\n",
    "hypothesis = tf.matmul(L2,W3)+b3"
   ]
  },
  {
   "cell_type": "code",
   "execution_count": 77,
   "metadata": {},
   "outputs": [
    {
     "name": "stdout",
     "output_type": "stream",
     "text": [
      "Epoch : 0001 cost= 192.608618383\n",
      "Learning Finished\n",
      "Epoch : 0002 cost= 44.224773736\n",
      "Learning Finished\n",
      "Epoch : 0003 cost= 27.736104823\n",
      "Learning Finished\n",
      "Epoch : 0004 cost= 19.279365433\n",
      "Learning Finished\n",
      "Epoch : 0005 cost= 13.968677909\n",
      "Learning Finished\n",
      "Epoch : 0006 cost= 10.284740440\n",
      "Learning Finished\n",
      "Epoch : 0007 cost= 7.661934150\n",
      "Learning Finished\n",
      "Epoch : 0008 cost= 5.701313848\n",
      "Learning Finished\n",
      "Epoch : 0009 cost= 4.252432403\n",
      "Learning Finished\n",
      "Epoch : 0010 cost= 3.171252094\n",
      "Learning Finished\n",
      "Epoch : 0011 cost= 2.388703500\n",
      "Learning Finished\n",
      "Epoch : 0012 cost= 1.774579248\n",
      "Learning Finished\n",
      "Epoch : 0013 cost= 1.362722964\n",
      "Learning Finished\n",
      "Epoch : 0014 cost= 0.955317123\n",
      "Learning Finished\n",
      "Epoch : 0015 cost= 0.844682856\n",
      "Learning Finished\n"
     ]
    }
   ],
   "source": [
    "cost = tf.reduce_mean(tf.nn.softmax_cross_entropy_with_logits(logits=hypothesis,labels=Y))\n",
    "optimizer = tf.train.AdamOptimizer(learning_rate=learning_rate).minimize(cost)\n",
    "\n",
    "sess = tf.Session()\n",
    "sess.run(tf.global_variables_initializer())\n",
    "\n",
    "for epoch in range(training_epochs):\n",
    "    avg_cost=0\n",
    "    total_batch=int(mnist.train.num_examples/batch_size)\n",
    "    \n",
    "    for i in range(total_batch):\n",
    "        batch_xs,batch_ys=mnist.train.next_batch(batch_size)\n",
    "        feed_dict = {X:batch_xs,Y:batch_ys}\n",
    "        c,_=sess.run([cost, optimizer], feed_dict=feed_dict)\n",
    "        avg_cost += c / total_batch\n",
    "        \n",
    "    print('Epoch :','%04d'%(epoch+1),'cost=','{:.9f}'.format(avg_cost))\n",
    "    \n",
    "    print('Learning Finished')"
   ]
  },
  {
   "cell_type": "markdown",
   "metadata": {},
   "source": [
    "#### 단일층과 비교하여 Epoch 횟수가 늘어날수록 cost 값이 줄어드는 비율이 엄청 크다."
   ]
  },
  {
   "cell_type": "code",
   "execution_count": 78,
   "metadata": {},
   "outputs": [
    {
     "name": "stdout",
     "output_type": "stream",
     "text": [
      "Accuracy : 0.9399\n"
     ]
    }
   ],
   "source": [
    "correct_prediction = tf.equal(tf.argmax(hypothesis,1),tf.argmax(Y,1))\n",
    "accuracy=tf.reduce_mean(tf.cast(correct_prediction,tf.float32))\n",
    "print(\"Accuracy :\",sess.run(accuracy,feed_dict={\n",
    "        X :mnist.test.images, Y:mnist.test.labels}))"
   ]
  },
  {
   "cell_type": "code",
   "execution_count": 79,
   "metadata": {},
   "outputs": [
    {
     "name": "stdout",
     "output_type": "stream",
     "text": [
      "Label : [9]\n",
      "Prediction : [9]\n"
     ]
    }
   ],
   "source": [
    "r=random.randint(0,mnist.test.num_examples-1)\n",
    "print(\"Label :\",sess.run(tf.argmax(mnist.test.labels[r:r+1],1)))\n",
    "print(\"Prediction :\",sess.run(tf.argmax(hypothesis,1),feed_dict={X:mnist.test.images[r:r+1]}))"
   ]
  },
  {
   "cell_type": "code",
   "execution_count": 80,
   "metadata": {},
   "outputs": [
    {
     "data": {
      "image/png": "[encoded data removed]",
      "text/plain": [
       "<Figure size 432x288 with 1 Axes>"
      ]
     },
     "metadata": {},
     "output_type": "display_data"
    }
   ],
   "source": [
    "plt.imshow(mnist.test.images[r:r+1].reshape(28,28),cmap='Greys',interpolation='nearest')\n",
    "plt.show()"
   ]
  },
  {
   "cell_type": "code",
   "execution_count": null,
   "metadata": {},
   "outputs": [],
   "source": []
  }
 ],
 "metadata": {
  "kernelspec": {
   "display_name": "Python 3",
   "language": "python",
   "name": "python3"
  },
  "language_info": {
   "codemirror_mode": {
    "name": "ipython",
    "version": 3
   },
   "file_extension": ".py",
   "mimetype": "text/x-python",
   "name": "python",
   "nbconvert_exporter": "python",
   "pygments_lexer": "ipython3",
   "version": "3.6.5"
  }
 },
 "nbformat": 4,
 "nbformat_minor": 2
}
